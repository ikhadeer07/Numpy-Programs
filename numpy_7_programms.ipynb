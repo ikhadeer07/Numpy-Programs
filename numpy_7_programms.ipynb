{
  "nbformat": 4,
  "nbformat_minor": 0,
  "metadata": {
    "colab": {
      "provenance": [],
      "authorship_tag": "ABX9TyMaSJyEs7kxVVeubNWl4Vrx",
      "include_colab_link": true
    },
    "kernelspec": {
      "name": "python3",
      "display_name": "Python 3"
    },
    "language_info": {
      "name": "python"
    }
  },
  "cells": [
    {
      "cell_type": "markdown",
      "metadata": {
        "id": "view-in-github",
        "colab_type": "text"
      },
      "source": [
        "<a href=\"https://colab.research.google.com/github/ikhadeer07/Numpy-Programs/blob/main/numpy_7_programms.ipynb\" target=\"_parent\"><img src=\"https://colab.research.google.com/assets/colab-badge.svg\" alt=\"Open In Colab\"/></a>"
      ]
    },
    {
      "cell_type": "code",
      "execution_count": 1,
      "metadata": {
        "colab": {
          "base_uri": "https://localhost:8080/"
        },
        "id": "Uba_NLYdCdak",
        "outputId": "605ae373-2356-4940-c84a-73f63f10f0ca"
      },
      "outputs": [
        {
          "output_type": "stream",
          "name": "stdout",
          "text": [
            "Maximum element: 9\n",
            "Minimum element: 1\n"
          ]
        }
      ],
      "source": [
        "import numpy as np\n",
        "\n",
        "# create a NumPy array\n",
        "arr = np.array([2, 5, 1, 9, 3, 7])\n",
        "\n",
        "# find the maximum element using numpy.amax()\n",
        "max_element = np.amax(arr)\n",
        "print(\"Maximum element:\", max_element)\n",
        "\n",
        "# find the minimum element using numpy.amin()\n",
        "min_element = np.amin(arr)\n",
        "print(\"Minimum element:\", min_element)\n"
      ]
    },
    {
      "cell_type": "code",
      "source": [
        "import numpy as np\n",
        "\n",
        "# create a NumPy array\n",
        "arr = np.array([2, 5, 1, 9, 3, 7])\n",
        "\n",
        "# sort the elements using numpy.sort()\n",
        "sorted_arr = np.sort(arr)\n",
        "print(\"Sorted array:\", sorted_arr)\n"
      ],
      "metadata": {
        "colab": {
          "base_uri": "https://localhost:8080/"
        },
        "id": "HTd9gkLTC2BC",
        "outputId": "c6d0c393-c2f1-468f-c4a0-6fae388131f8"
      },
      "execution_count": 2,
      "outputs": [
        {
          "output_type": "stream",
          "name": "stdout",
          "text": [
            "Sorted array: [1 2 3 5 7 9]\n"
          ]
        }
      ]
    },
    {
      "cell_type": "code",
      "source": [
        "import numpy as np\n",
        "\n",
        "# create a list of NumPy arrays\n",
        "arr_list = [np.array([1, 2, 3]), np.array([4, 5, 6]), np.array([7, 8, 9])]\n",
        "\n",
        "# find the mean of each array using numpy.mean()\n",
        "mean_list = [np.mean(arr) for arr in arr_list]\n",
        "print(\"Mean of each array:\", mean_list)\n"
      ],
      "metadata": {
        "colab": {
          "base_uri": "https://localhost:8080/"
        },
        "id": "0gehLNzBDIDA",
        "outputId": "e5ba15e0-c8e1-4519-fd36-e024c0c155f6"
      },
      "execution_count": 3,
      "outputs": [
        {
          "output_type": "stream",
          "name": "stdout",
          "text": [
            "Mean of each array: [2.0, 5.0, 8.0]\n"
          ]
        }
      ]
    },
    {
      "cell_type": "code",
      "source": [
        "import numpy as np\n",
        "\n",
        "# create a 2D NumPy array\n",
        "arr = np.array([[1, 2, 3], [4, 5, 6]])\n",
        "\n",
        "# add a row to the array using numpy.vstack()\n",
        "new_row = np.array([7, 8, 9])\n",
        "arr_with_row = np.vstack((arr, new_row))\n",
        "print(\"Array with new row:\\n\", arr_with_row)\n",
        "\n",
        "# add a column to the array using numpy.hstack()\n",
        "new_col = np.array([[10], [11]])\n",
        "arr_with_col = np.hstack((arr, new_col))\n",
        "print(\"Array with new column:\\n\", arr_with_col)\n"
      ],
      "metadata": {
        "colab": {
          "base_uri": "https://localhost:8080/"
        },
        "id": "qW5p1QdKDJ54",
        "outputId": "8ee96532-4f9a-49d3-aa21-c63542d4591a"
      },
      "execution_count": 4,
      "outputs": [
        {
          "output_type": "stream",
          "name": "stdout",
          "text": [
            "Array with new row:\n",
            " [[1 2 3]\n",
            " [4 5 6]\n",
            " [7 8 9]]\n",
            "Array with new column:\n",
            " [[ 1  2  3 10]\n",
            " [ 4  5  6 11]]\n"
          ]
        }
      ]
    },
    {
      "cell_type": "code",
      "source": [
        "import numpy as np\n",
        "\n",
        "# create a 1D NumPy array\n",
        "arr1d = np.array([1, 2, 3, 4, 5])\n",
        "\n",
        "# reverse the array using numpy.flip()\n",
        "arr1d_reverse = np.flip(arr1d)\n",
        "print(\"Reversed 1D array:\", arr1d_reverse)\n",
        "\n",
        "# create a 2D NumPy array\n",
        "arr2d = np.array([[1, 2, 3], [4, 5, 6], [7, 8, 9]])\n",
        "\n",
        "# reverse the array along the rows using numpy.flip()\n",
        "arr2d_reverse_rows = np.flip(arr2d, axis=0)\n",
        "print(\"Reversed 2D array along rows:\\n\", arr2d_reverse_rows)\n",
        "\n",
        "# reverse the array along the columns using numpy.flip()\n",
        "arr2d_reverse_cols = np.flip(arr2d, axis=1)\n",
        "print(\"Reversed 2D array along columns:\\n\", arr2d_reverse_cols)\n"
      ],
      "metadata": {
        "colab": {
          "base_uri": "https://localhost:8080/"
        },
        "id": "ZbbzF67GDu4P",
        "outputId": "631ea857-d4fd-4b9a-830e-200ca25874e8"
      },
      "execution_count": 5,
      "outputs": [
        {
          "output_type": "stream",
          "name": "stdout",
          "text": [
            "Reversed 1D array: [5 4 3 2 1]\n",
            "Reversed 2D array along rows:\n",
            " [[7 8 9]\n",
            " [4 5 6]\n",
            " [1 2 3]]\n",
            "Reversed 2D array along columns:\n",
            " [[3 2 1]\n",
            " [6 5 4]\n",
            " [9 8 7]]\n"
          ]
        }
      ]
    },
    {
      "cell_type": "code",
      "source": [
        "import numpy as np\n",
        "\n",
        "# create two matrices\n",
        "A = np.array([[1, 2], [3, 4], [5, 6]])\n",
        "B = np.array([[7, 8], [9, 10]])\n",
        "\n",
        "# multiply the matrices using numpy.dot()\n",
        "C = np.dot(A, B)\n",
        "\n",
        "# print the result\n",
        "print(C)\n"
      ],
      "metadata": {
        "colab": {
          "base_uri": "https://localhost:8080/"
        },
        "id": "9-r8j-HzD5rp",
        "outputId": "945d101a-bc4c-46b3-daf8-9f9c21b100df"
      },
      "execution_count": 6,
      "outputs": [
        {
          "output_type": "stream",
          "name": "stdout",
          "text": [
            "[[ 25  28]\n",
            " [ 57  64]\n",
            " [ 89 100]]\n"
          ]
        }
      ]
    },
    {
      "cell_type": "code",
      "source": [
        "import numpy as np\n",
        "\n",
        "# size of the checkerboard\n",
        "n = 8\n",
        "\n",
        "# create a (n x n) checkerboard pattern using NumPy broadcasting\n",
        "checkerboard = np.zeros((n, n), dtype=int)\n",
        "checkerboard[1::2, ::2] = 1\n",
        "checkerboard[::2, 1::2] = 1\n",
        "\n",
        "# print the checkerboard pattern\n",
        "print(checkerboard)\n"
      ],
      "metadata": {
        "colab": {
          "base_uri": "https://localhost:8080/"
        },
        "id": "igQDLNq3ELyE",
        "outputId": "5e3d7e30-a541-48b9-d7c8-640813b30363"
      },
      "execution_count": 7,
      "outputs": [
        {
          "output_type": "stream",
          "name": "stdout",
          "text": [
            "[[0 1 0 1 0 1 0 1]\n",
            " [1 0 1 0 1 0 1 0]\n",
            " [0 1 0 1 0 1 0 1]\n",
            " [1 0 1 0 1 0 1 0]\n",
            " [0 1 0 1 0 1 0 1]\n",
            " [1 0 1 0 1 0 1 0]\n",
            " [0 1 0 1 0 1 0 1]\n",
            " [1 0 1 0 1 0 1 0]]\n"
          ]
        }
      ]
    }
  ]
}